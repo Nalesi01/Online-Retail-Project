{
 "cells": [
  {
   "cell_type": "markdown",
   "metadata": {},
   "source": [
    "# Portfolio Project: Online Retail Exploratory Data Analysis with Python"
   ]
  },
  {
   "cell_type": "markdown",
   "metadata": {},
   "source": [
    "## Overview\n",
    "\n",
    "In this project, you will step into the shoes of an entry-level data analyst at an online retail company, helping interpret real-world data to help make a key business decision."
   ]
  },
  {
   "cell_type": "markdown",
   "metadata": {},
   "source": [
    "## Case Study\n",
    "In this project, you will be working with transactional data from an online retail store. The dataset contains information about customer purchases, including product details, quantities, prices, and timestamps. Your task is to explore and analyze this dataset to gain insights into the store's sales trends, customer behavior, and popular products. \n",
    "\n",
    "By conducting exploratory data analysis, you will identify patterns, outliers, and correlations in the data, allowing you to make data-driven decisions and recommendations to optimize the store's operations and improve customer satisfaction. Through visualizations and statistical analysis, you will uncover key trends, such as the busiest sales months, best-selling products, and the store's most valuable customers. Ultimately, this project aims to provide actionable insights that can drive strategic business decisions and enhance the store's overall performance in the competitive online retail market.\n",
    "\n",
    "## Prerequisites\n",
    "\n",
    "Before starting this project, you should have some basic knowledge of Python programming and Pandas. In addition, you may want to use the following packages in your Python environment:\n",
    "\n",
    "- pandas\n",
    "- numpy\n",
    "- seaborn\n",
    "- matplotlib\n",
    "\n",
    "These packages should already be installed in Coursera's Jupyter Notebook environment, however if you'd like to install additional packages that are not included in this environment or are working off platform you can install additional packages using `!pip install packagename` within a notebook cell such as:\n",
    "\n",
    "- `!pip install pandas`\n",
    "- `!pip install matplotlib`"
   ]
  },
  {
   "cell_type": "markdown",
   "metadata": {},
   "source": [
    "## Project Objectives\n",
    "1. Describe data to answer key questions to uncover insights\n",
    "2. Gain valuable insights that will help improve online retail performance\n",
    "3. Provide analytic insights and data-driven recommendations"
   ]
  },
  {
   "cell_type": "markdown",
   "metadata": {},
   "source": [
    "## Dataset\n",
    "\n",
    "The dataset you will be working with is the \"Online Retail\" dataset. It contains transactional data of an online retail store from 2010 to 2011. The dataset is available as a .xlsx file named `Online Retail.xlsx`. This data file is already included in the Coursera Jupyter Notebook environment, however if you are working off-platform it can also be downloaded [here](https://archive.ics.uci.edu/ml/machine-learning-databases/00352/Online%20Retail.xlsx).\n",
    "\n",
    "The dataset contains the following columns:\n",
    "\n",
    "- InvoiceNo: Invoice number of the transaction\n",
    "- StockCode: Unique code of the product\n",
    "- Description: Description of the product\n",
    "- Quantity: Quantity of the product in the transaction\n",
    "- InvoiceDate: Date and time of the transaction\n",
    "- UnitPrice: Unit price of the product\n",
    "- CustomerID: Unique identifier of the customer\n",
    "- Country: Country where the transaction occurred"
   ]
  },
  {
   "cell_type": "markdown",
   "metadata": {},
   "source": [
    "## Tasks\n",
    "\n",
    "You may explore this dataset in any way you would like - however if you'd like some help getting started, here are a few ideas:\n",
    "\n",
    "1. Load the dataset into a Pandas DataFrame and display the first few rows to get an overview of the data.\n",
    "2. Perform data cleaning by handling missing values, if any, and removing any redundant or unnecessary columns.\n",
    "3. Explore the basic statistics of the dataset, including measures of central tendency and dispersion.\n",
    "4. Perform data visualization to gain insights into the dataset. Generate appropriate plots, such as histograms, scatter plots, or bar plots, to visualize different aspects of the data.\n",
    "5. Analyze the sales trends over time. Identify the busiest months and days of the week in terms of sales.\n",
    "6. Explore the top-selling products and countries based on the quantity sold.\n",
    "7. Identify any outliers or anomalies in the dataset and discuss their potential impact on the analysis.\n",
    "8. Draw conclusions and summarize your findings from the exploratory data analysis."
   ]
  },
  {
   "cell_type": "markdown",
   "metadata": {},
   "source": [
    "## Task 1: Load the Data"
   ]
  },
  {
   "cell_type": "code",
   "execution_count": 1,
   "metadata": {},
   "outputs": [],
   "source": [
    "import pandas as pd\n",
    "import numpy as np\n",
    "import seaborn as sns\n",
    "import matplotlib.pyplot as plt\n",
    "from matplotlib.dates import MonthLocator, DayLocator, DateFormatter"
   ]
  },
  {
   "cell_type": "code",
   "execution_count": 2,
   "metadata": {},
   "outputs": [
    {
     "data": {
      "text/html": [
       "<div>\n",
       "<style scoped>\n",
       "    .dataframe tbody tr th:only-of-type {\n",
       "        vertical-align: middle;\n",
       "    }\n",
       "\n",
       "    .dataframe tbody tr th {\n",
       "        vertical-align: top;\n",
       "    }\n",
       "\n",
       "    .dataframe thead th {\n",
       "        text-align: right;\n",
       "    }\n",
       "</style>\n",
       "<table border=\"1\" class=\"dataframe\">\n",
       "  <thead>\n",
       "    <tr style=\"text-align: right;\">\n",
       "      <th></th>\n",
       "      <th>InvoiceNo</th>\n",
       "      <th>StockCode</th>\n",
       "      <th>Description</th>\n",
       "      <th>Quantity</th>\n",
       "      <th>InvoiceDate</th>\n",
       "      <th>UnitPrice</th>\n",
       "      <th>CustomerID</th>\n",
       "      <th>Country</th>\n",
       "    </tr>\n",
       "  </thead>\n",
       "  <tbody>\n",
       "    <tr>\n",
       "      <th>0</th>\n",
       "      <td>536365</td>\n",
       "      <td>85123A</td>\n",
       "      <td>WHITE HANGING HEART T-LIGHT HOLDER</td>\n",
       "      <td>6</td>\n",
       "      <td>2010-12-01 08:26:00</td>\n",
       "      <td>2.55</td>\n",
       "      <td>17850.0</td>\n",
       "      <td>United Kingdom</td>\n",
       "    </tr>\n",
       "    <tr>\n",
       "      <th>1</th>\n",
       "      <td>536365</td>\n",
       "      <td>71053</td>\n",
       "      <td>WHITE METAL LANTERN</td>\n",
       "      <td>6</td>\n",
       "      <td>2010-12-01 08:26:00</td>\n",
       "      <td>3.39</td>\n",
       "      <td>17850.0</td>\n",
       "      <td>United Kingdom</td>\n",
       "    </tr>\n",
       "    <tr>\n",
       "      <th>2</th>\n",
       "      <td>536365</td>\n",
       "      <td>84406B</td>\n",
       "      <td>CREAM CUPID HEARTS COAT HANGER</td>\n",
       "      <td>8</td>\n",
       "      <td>2010-12-01 08:26:00</td>\n",
       "      <td>2.75</td>\n",
       "      <td>17850.0</td>\n",
       "      <td>United Kingdom</td>\n",
       "    </tr>\n",
       "    <tr>\n",
       "      <th>3</th>\n",
       "      <td>536365</td>\n",
       "      <td>84029G</td>\n",
       "      <td>KNITTED UNION FLAG HOT WATER BOTTLE</td>\n",
       "      <td>6</td>\n",
       "      <td>2010-12-01 08:26:00</td>\n",
       "      <td>3.39</td>\n",
       "      <td>17850.0</td>\n",
       "      <td>United Kingdom</td>\n",
       "    </tr>\n",
       "    <tr>\n",
       "      <th>4</th>\n",
       "      <td>536365</td>\n",
       "      <td>84029E</td>\n",
       "      <td>RED WOOLLY HOTTIE WHITE HEART.</td>\n",
       "      <td>6</td>\n",
       "      <td>2010-12-01 08:26:00</td>\n",
       "      <td>3.39</td>\n",
       "      <td>17850.0</td>\n",
       "      <td>United Kingdom</td>\n",
       "    </tr>\n",
       "  </tbody>\n",
       "</table>\n",
       "</div>"
      ],
      "text/plain": [
       "  InvoiceNo StockCode                          Description  Quantity  \\\n",
       "0    536365    85123A   WHITE HANGING HEART T-LIGHT HOLDER         6   \n",
       "1    536365     71053                  WHITE METAL LANTERN         6   \n",
       "2    536365    84406B       CREAM CUPID HEARTS COAT HANGER         8   \n",
       "3    536365    84029G  KNITTED UNION FLAG HOT WATER BOTTLE         6   \n",
       "4    536365    84029E       RED WOOLLY HOTTIE WHITE HEART.         6   \n",
       "\n",
       "          InvoiceDate  UnitPrice  CustomerID         Country  \n",
       "0 2010-12-01 08:26:00       2.55     17850.0  United Kingdom  \n",
       "1 2010-12-01 08:26:00       3.39     17850.0  United Kingdom  \n",
       "2 2010-12-01 08:26:00       2.75     17850.0  United Kingdom  \n",
       "3 2010-12-01 08:26:00       3.39     17850.0  United Kingdom  \n",
       "4 2010-12-01 08:26:00       3.39     17850.0  United Kingdom  "
      ]
     },
     "execution_count": 2,
     "metadata": {},
     "output_type": "execute_result"
    }
   ],
   "source": [
    "df  = pd.read_excel('Online Retail.xlsx')\n",
    "df.head(5)"
   ]
  },
  {
   "cell_type": "code",
   "execution_count": 3,
   "metadata": {},
   "outputs": [],
   "source": [
    "# Removing null values\n",
    "df = df.dropna()"
   ]
  },
  {
   "cell_type": "code",
   "execution_count": 4,
   "metadata": {},
   "outputs": [],
   "source": [
    "# Removing unnecessary columns\n",
    "df = df.drop(['InvoiceNo','StockCode'], axis = 1)\n"
   ]
  },
  {
   "cell_type": "code",
   "execution_count": 5,
   "metadata": {},
   "outputs": [
    {
     "name": "stdout",
     "output_type": "stream",
     "text": [
      "                             Description  Quantity         InvoiceDate  \\\n",
      "9          ASSORTED COLOUR BIRD ORNAMENT        32 2010-12-01 08:34:00   \n",
      "31           INFLATABLE POLITICAL GLOBE         48 2010-12-01 08:45:00   \n",
      "44               MINI PAINT SET VINTAGE         36 2010-12-01 08:45:00   \n",
      "46       PAPER CHAIN KIT 50'S CHRISTMAS         80 2010-12-01 09:00:00   \n",
      "65            VICTORIAN SEWING BOX LARGE        32 2010-12-01 09:09:00   \n",
      "...                                  ...       ...                 ...   \n",
      "541835            JUMBO BAG PAISLEY PARK        40 2011-12-09 12:19:00   \n",
      "541865           LUNCH BAG RED RETROSPOT        40 2011-12-09 12:23:00   \n",
      "541866   6 CHOCOLATE LOVE HEART T-LIGHTS        36 2011-12-09 12:23:00   \n",
      "541867  RED FLOCK LOVE HEART PHOTO FRAME        72 2011-12-09 12:25:00   \n",
      "541868   6 CHOCOLATE LOVE HEART T-LIGHTS        48 2011-12-09 12:25:00   \n",
      "\n",
      "        UnitPrice  CustomerID         Country  \n",
      "9            1.69     13047.0  United Kingdom  \n",
      "31           0.85     12583.0          France  \n",
      "44           0.65     12583.0          France  \n",
      "46           2.55     13748.0  United Kingdom  \n",
      "65          10.95     15100.0  United Kingdom  \n",
      "...           ...         ...             ...  \n",
      "541835       1.79     17581.0  United Kingdom  \n",
      "541865       1.45     13777.0  United Kingdom  \n",
      "541866       1.85     13777.0  United Kingdom  \n",
      "541867       0.72     13777.0  United Kingdom  \n",
      "541868       1.85     13777.0  United Kingdom  \n",
      "\n",
      "[34561 rows x 6 columns]\n"
     ]
    },
    {
     "data": {
      "text/plain": [
       "<matplotlib.axes._subplots.AxesSubplot at 0x7f7798093250>"
      ]
     },
     "execution_count": 5,
     "metadata": {},
     "output_type": "execute_result"
    },
    {
     "data": {
      "image/png": "[encoded data removed]",
      "text/plain": [
       "<Figure size 432x288 with 1 Axes>"
      ]
     },
     "metadata": {
      "needs_background": "light"
     },
     "output_type": "display_data"
    }
   ],
   "source": [
    "# Detecting outliers in quantity\n",
    "\n",
    "# Visualizing the outliers before removing them\n",
    "#sns.boxplot(df['Quantity'])\n",
    "\n",
    "# Determining IQR\n",
    "Q1 = df['Quantity'].quantile(0.25)\n",
    "Q3 = df['Quantity'].quantile(0.75)\n",
    "IQR = Q3 - Q1\n",
    "\n",
    "# Defining lower and upper bounds for outlier identification\n",
    "lower_bound = 0 # Having a quantity less than zero does not have physical meaning hence I made it zero\n",
    "upper_bound = Q3 + 1.5*IQR\n",
    "\n",
    "# Outlier identification\n",
    "outliers = df[(df['Quantity'] < lower_bound) | (df['Quantity'] > upper_bound)]\n",
    "print(outliers)\n",
    "\n",
    "# Removing outliers\n",
    "df= df[(df['Quantity'] >= lower_bound) & (df['Quantity'] <= upper_bound)]\n",
    "\n",
    "# Box plot after outlier removal\n",
    "sns.boxplot(df['Quantity'])\n",
    "\n"
   ]
  },
  {
   "cell_type": "code",
   "execution_count": 6,
   "metadata": {},
   "outputs": [
    {
     "name": "stdout",
     "output_type": "stream",
     "text": [
      "                           Description  Quantity         InvoiceDate  \\\n",
      "5         SET 7 BABUSHKA NESTING BOXES         2 2010-12-01 08:26:00   \n",
      "16      BOX OF VINTAGE ALPHABET BLOCKS         2 2010-12-01 08:34:00   \n",
      "19         RECIPE BOX WITH METAL HEART         4 2010-12-01 08:34:00   \n",
      "20                 DOORMAT NEW ENGLAND         4 2010-12-01 08:34:00   \n",
      "45                             POSTAGE         3 2010-12-01 08:45:00   \n",
      "...                                ...       ...                 ...   \n",
      "541768                         POSTAGE         3 2011-12-09 12:16:00   \n",
      "541786  BOX OF VINTAGE ALPHABET BLOCKS         6 2011-12-09 12:16:00   \n",
      "541831    CHRISTMAS LIGHTS 10 REINDEER         4 2011-12-09 12:19:00   \n",
      "541849   TABLECLOTH RED APPLES DESIGN          2 2011-12-09 12:20:00   \n",
      "541892   RED RETROSPOT ROUND CAKE TINS        24 2011-12-09 12:49:00   \n",
      "\n",
      "        UnitPrice  CustomerID         Country  \n",
      "5            7.65     17850.0  United Kingdom  \n",
      "16           9.95     13047.0  United Kingdom  \n",
      "19           7.95     13047.0  United Kingdom  \n",
      "20           7.95     13047.0  United Kingdom  \n",
      "45          18.00     12583.0          France  \n",
      "...           ...         ...             ...  \n",
      "541768      18.00     12713.0         Germany  \n",
      "541786      11.95     12713.0         Germany  \n",
      "541831       8.50     17581.0  United Kingdom  \n",
      "541849       9.95     12748.0  United Kingdom  \n",
      "541892       8.95     13113.0  United Kingdom  \n",
      "\n",
      "[34086 rows x 6 columns]\n"
     ]
    },
    {
     "data": {
      "text/plain": [
       "<matplotlib.axes._subplots.AxesSubplot at 0x7f771c335790>"
      ]
     },
     "execution_count": 6,
     "metadata": {},
     "output_type": "execute_result"
    },
    {
     "data": {
      "image/png": "[encoded data removed]",
      "text/plain": [
       "<Figure size 432x288 with 1 Axes>"
      ]
     },
     "metadata": {
      "needs_background": "light"
     },
     "output_type": "display_data"
    }
   ],
   "source": [
    "# Detecting outliers in unit price\n",
    "\n",
    "# Box plot before outlier removal\n",
    "#sns.boxplot(df['UnitPrice'])\n",
    "\n",
    "# Determining IQR\n",
    "Q1 = df['UnitPrice'].quantile(0.25)\n",
    "Q3 = df['UnitPrice'].quantile(0.75)\n",
    "IQR =  Q3 - Q1\n",
    "\n",
    "# Defining bounds\n",
    "lower_bound = Q1 - 1.5*IQR\n",
    "upper_bound = Q3 + 1.5*IQR\n",
    "\n",
    "# Outlier identification\n",
    "outliers = df[(df['UnitPrice'] < lower_bound)|(df['UnitPrice'] > upper_bound)]\n",
    "print(outliers)\n",
    "\n",
    "# Removing outliers\n",
    "df = df[(df['UnitPrice'] >= lower_bound)&(df['UnitPrice'] <= upper_bound)]\n",
    "\n",
    "# Box plot after outlier removal\n",
    "sns.boxplot(df['UnitPrice'])"
   ]
  },
  {
   "cell_type": "code",
   "execution_count": 11,
   "metadata": {},
   "outputs": [
    {
     "name": "stdout",
     "output_type": "stream",
     "text": [
      "Top 5 most valued customers:\n",
      "CustomerID\n",
      "14911.0    85018.78\n",
      "13089.0    36411.63\n",
      "14096.0    36019.84\n",
      "17841.0    32644.72\n",
      "14298.0    24387.53\n",
      "Name: TotalPrice, dtype: float64\n",
      "Top selling products:\n",
      "Index(['PACK OF 72 RETROSPOT CAKE CASES', 'ASSORTED COLOUR BIRD ORNAMENT',\n",
      "       'JUMBO BAG RED RETROSPOT', 'WHITE HANGING HEART T-LIGHT HOLDER',\n",
      "       'LUNCH BAG RED RETROSPOT'],\n",
      "      dtype='object', name='Description')\n"
     ]
    }
   ],
   "source": [
    "# Create a new column 'TotalPrice'\n",
    "df['TotalPrice'] = df['Quantity'] * df['UnitPrice']\n",
    "# Determine the top 5 most valued customers based on total spend\n",
    "customer_total_spend = df.groupby('CustomerID')['TotalPrice'].sum()\n",
    "top_5_customers = customer_total_spend.nlargest(5)\n",
    "print(\"Top 5 most valued customers:\")\n",
    "print(top_5_customers)\n",
    "\n",
    "\n",
    "# Determine top selling products\n",
    "top_selling = df.groupby('Description')['Quantity'].sum().sort_values(ascending=False).head(5)\n",
    "top_selling_description = top_selling.index.unique()\n",
    "print(\"Top selling products:\")\n",
    "print(top_selling_description)\n",
    "\n",
    "\n"
   ]
  },
  {
   "cell_type": "code",
   "execution_count": 12,
   "metadata": {},
   "outputs": [
    {
     "data": {
      "text/html": [
       "<div>\n",
       "<style scoped>\n",
       "    .dataframe tbody tr th:only-of-type {\n",
       "        vertical-align: middle;\n",
       "    }\n",
       "\n",
       "    .dataframe tbody tr th {\n",
       "        vertical-align: top;\n",
       "    }\n",
       "\n",
       "    .dataframe thead th {\n",
       "        text-align: right;\n",
       "    }\n",
       "</style>\n",
       "<table border=\"1\" class=\"dataframe\">\n",
       "  <thead>\n",
       "    <tr style=\"text-align: right;\">\n",
       "      <th></th>\n",
       "      <th>Quantity</th>\n",
       "      <th>UnitPrice</th>\n",
       "      <th>CustomerID</th>\n",
       "      <th>TotalPrice</th>\n",
       "    </tr>\n",
       "  </thead>\n",
       "  <tbody>\n",
       "    <tr>\n",
       "      <th>count</th>\n",
       "      <td>338182.000000</td>\n",
       "      <td>338182.000000</td>\n",
       "      <td>338182.000000</td>\n",
       "      <td>338182.000000</td>\n",
       "    </tr>\n",
       "    <tr>\n",
       "      <th>mean</th>\n",
       "      <td>7.476811</td>\n",
       "      <td>2.191816</td>\n",
       "      <td>15325.874973</td>\n",
       "      <td>12.770823</td>\n",
       "    </tr>\n",
       "    <tr>\n",
       "      <th>std</th>\n",
       "      <td>6.770883</td>\n",
       "      <td>1.544842</td>\n",
       "      <td>1710.766218</td>\n",
       "      <td>13.176967</td>\n",
       "    </tr>\n",
       "    <tr>\n",
       "      <th>min</th>\n",
       "      <td>1.000000</td>\n",
       "      <td>0.000000</td>\n",
       "      <td>12347.000000</td>\n",
       "      <td>0.000000</td>\n",
       "    </tr>\n",
       "    <tr>\n",
       "      <th>25%</th>\n",
       "      <td>2.000000</td>\n",
       "      <td>1.250000</td>\n",
       "      <td>13994.000000</td>\n",
       "      <td>3.800000</td>\n",
       "    </tr>\n",
       "    <tr>\n",
       "      <th>50%</th>\n",
       "      <td>6.000000</td>\n",
       "      <td>1.650000</td>\n",
       "      <td>15245.000000</td>\n",
       "      <td>10.080000</td>\n",
       "    </tr>\n",
       "    <tr>\n",
       "      <th>75%</th>\n",
       "      <td>12.000000</td>\n",
       "      <td>2.950000</td>\n",
       "      <td>16818.000000</td>\n",
       "      <td>17.400000</td>\n",
       "    </tr>\n",
       "    <tr>\n",
       "      <th>max</th>\n",
       "      <td>27.000000</td>\n",
       "      <td>7.500000</td>\n",
       "      <td>18287.000000</td>\n",
       "      <td>178.800000</td>\n",
       "    </tr>\n",
       "  </tbody>\n",
       "</table>\n",
       "</div>"
      ],
      "text/plain": [
       "            Quantity      UnitPrice     CustomerID     TotalPrice\n",
       "count  338182.000000  338182.000000  338182.000000  338182.000000\n",
       "mean        7.476811       2.191816   15325.874973      12.770823\n",
       "std         6.770883       1.544842    1710.766218      13.176967\n",
       "min         1.000000       0.000000   12347.000000       0.000000\n",
       "25%         2.000000       1.250000   13994.000000       3.800000\n",
       "50%         6.000000       1.650000   15245.000000      10.080000\n",
       "75%        12.000000       2.950000   16818.000000      17.400000\n",
       "max        27.000000       7.500000   18287.000000     178.800000"
      ]
     },
     "execution_count": 12,
     "metadata": {},
     "output_type": "execute_result"
    }
   ],
   "source": [
    "# Measures of dispersion\n",
    "df.describe()\n",
    "# The std of the total price would be useful to see the spread from the mean"
   ]
  },
  {
   "cell_type": "code",
   "execution_count": 13,
   "metadata": {},
   "outputs": [
    {
     "name": "stdout",
     "output_type": "stream",
     "text": [
      "Year  Month\n",
      "2010  12       286014.610\n",
      "2011  1        233908.010\n",
      "      2        220099.410\n",
      "      3        286501.840\n",
      "      4        242996.611\n",
      "      5        325996.840\n",
      "      6        291135.140\n",
      "      7        289833.551\n",
      "      8        306043.760\n",
      "      9        482556.772\n",
      "      10       527605.080\n",
      "      11       647874.300\n",
      "      12       178296.600\n",
      "Name: TotalPrice, dtype: float64\n"
     ]
    },
    {
     "data": {
      "image/png": "[encoded data removed]",
      "text/plain": [
       "<Figure size 864x432 with 1 Axes>"
      ]
     },
     "metadata": {
      "needs_background": "light"
     },
     "output_type": "display_data"
    }
   ],
   "source": [
    "# Sales over time, starting with sales over months\n",
    "\n",
    "\n",
    "# Extract year and month from 'InvoiceDate'\n",
    "df['Year'] = df['InvoiceDate'].dt.year\n",
    "df['Month'] = df['InvoiceDate'].dt.month\n",
    "\n",
    "# Group by year and month, sum total sales for each month\n",
    "monthly_sales = df.groupby(['Year', 'Month'])['TotalPrice'].sum()\n",
    "print(monthly_sales)\n",
    "\n",
    "# Filter data for the first 12 months\n",
    "#first_12_months = monthly_sales.head(12)\n",
    "\n",
    "# Plotting the sales trend over the first 12 months\n",
    "plt.figure(figsize=(12, 6))\n",
    "\n",
    "# Plot the line chart\n",
    "monthly_sales.plot(kind='line', marker='o', label='Monthly Sales')\n",
    "\n",
    "\n",
    "# Set plot labels and title\n",
    "plt.title('Sales Trend Over Time')\n",
    "plt.xlabel('Month')\n",
    "plt.ylabel('Total Sales')\n",
    "\n",
    "# Show legend\n",
    "plt.legend()\n",
    "\n",
    "# Display the plot\n",
    "plt.grid(True)\n",
    "plt.show()\n"
   ]
  },
  {
   "cell_type": "code",
   "execution_count": 14,
   "metadata": {},
   "outputs": [
    {
     "data": {
      "image/png": "[encoded data removed]",
      "text/plain": [
       "<Figure size 864x432 with 1 Axes>"
      ]
     },
     "metadata": {
      "needs_background": "light"
     },
     "output_type": "display_data"
    }
   ],
   "source": [
    "\n",
    "\n",
    "# Extract day of the week from 'InvoiceDate'\n",
    "df['DayOfWeek'] = df['InvoiceDate'].dt.day_name()\n",
    "\n",
    "# Reorder days of the week starting from Monday\n",
    "days_order = ['Monday', 'Tuesday', 'Wednesday', 'Thursday', 'Friday', 'Saturday', 'Sunday']\n",
    "df['DayOfWeek'] = pd.Categorical(df['DayOfWeek'], categories=days_order, ordered=True)\n",
    "\n",
    "# Group by day of the week, sum total sales for each day\n",
    "daily_sales = df.groupby('DayOfWeek')['TotalPrice'].sum()\n",
    "\n",
    "# Calculate the average daily sales for the entire time period\n",
    "average_daily_sales = daily_sales.mean()\n",
    "\n",
    "# Plotting the average sales per day in a week\n",
    "plt.figure(figsize=(12, 6))\n",
    "\n",
    "# Plot the bar chart\n",
    "daily_sales.plot(kind='bar', label='Daily Sales', color='skyblue')\n",
    "\n",
    "# Plot the average line\n",
    "plt.axhline(average_daily_sales, color='red', linestyle='dashed', linewidth=2, label='Average Sales')\n",
    "\n",
    "# Set plot labels and title\n",
    "plt.title('Average Sales Per Day in a Week (Monday to Sunday)')\n",
    "plt.xlabel('Day of the Week')\n",
    "plt.ylabel('Total Sales')\n",
    "\n",
    "# Show legend\n",
    "plt.legend()\n",
    "\n",
    "# Display the plot\n",
    "plt.grid(True)\n",
    "plt.show()\n"
   ]
  },
  {
   "cell_type": "markdown",
   "metadata": {},
   "source": [
    "# Conclusion\n",
    "As part of the data cleaning process, rows consisting of any null values were removed as well unnecessary columns such as invoice number and stockcode. There were outliers in the quantity and unit price, these were removed as outliers distort statistical analyses. As part of the main analysis, five most valued customers were determined as well as five top selling products which were found to be a pack of 72 Retrospot cake cases, assorted colour bird ornament, jumbo bag red retrospot, white hanging heart T-light holder and a jumbo lunch bag red retrospot. More insights uncovered include the busiest months which were found to be September, October and November. Additionally, the busiest day was determined to be Thursday. According to the analysis, the total sales on Saturday were zero which may indicate that the store is usually closed on Saturdays."
   ]
  },
  {
   "cell_type": "code",
   "execution_count": null,
   "metadata": {},
   "outputs": [],
   "source": []
  }
 ],
 "metadata": {
  "kernelspec": {
   "display_name": "Python 3",
   "language": "python",
   "name": "python3"
  },
  "language_info": {
   "codemirror_mode": {
    "name": "ipython",
    "version": 3
   },
   "file_extension": ".py",
   "mimetype": "text/x-python",
   "name": "python",
   "nbconvert_exporter": "python",
   "pygments_lexer": "ipython3",
   "version": "3.7.6"
  }
 },
 "nbformat": 4,
 "nbformat_minor": 4
}
